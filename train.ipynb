{
 "cells": [
  {
   "cell_type": "code",
   "execution_count": null,
   "metadata": {},
   "outputs": [],
   "source": [
    "import numpy as np\n",
    "import pandas as pd\n",
    "import tensorflow as tf\n",
    "import pickle as pkl\n",
    "\n",
    "from resources.model import SweDeClinBert\n",
    "from resources.data import generate_data"
   ]
  },
  {
   "cell_type": "code",
   "execution_count": null,
   "metadata": {},
   "outputs": [],
   "source": [
    "NUM_EPOCHS = 20\n",
    "BATCH_SIZE = 2\n",
    "LABEL      = 'metastasis'\n",
    "RNN        = tf.keras.layers.LSTM"
   ]
  },
  {
   "cell_type": "code",
   "execution_count": null,
   "metadata": {},
   "outputs": [],
   "source": [
    "print(\"Num GPUs Available: \", len(tf.config.list_physical_devices('GPU')))"
   ]
  },
  {
   "attachments": {},
   "cell_type": "markdown",
   "metadata": {},
   "source": [
    "# Prepare data:"
   ]
  },
  {
   "attachments": {},
   "cell_type": "markdown",
   "metadata": {},
   "source": [
    "## Load training data:"
   ]
  },
  {
   "cell_type": "code",
   "execution_count": null,
   "metadata": {},
   "outputs": [],
   "source": [
    "data_train = pd.read_csv('data/text_train_set.csv', sep='\\t')\n",
    "data_train.dropna(inplace=True)\n",
    "data_train"
   ]
  },
  {
   "attachments": {},
   "cell_type": "markdown",
   "metadata": {},
   "source": [
    "Calculate class weights:"
   ]
  },
  {
   "cell_type": "code",
   "execution_count": null,
   "metadata": {},
   "outputs": [],
   "source": [
    "y = np.array([data_train[LABEL].values[data_train.pid==pid][0] for pid in data_train.pid.unique()])\n",
    "\n",
    "neg, pos = np.bincount(np.ravel(y.astype(int)))\n",
    "total = neg + pos\n",
    "\n",
    "print('Examples:\\n    Total: {}\\n    Positive: {} ({:.2f}% of total)\\n'.format(\n",
    "    total, pos, 100 * pos / total))\n",
    "    \n",
    "CLASS_WEIGHTS = 1 / np.array((neg,pos)) * (total / 2.0)\n",
    "print('Weight for class 0:   {:.2f}'.format(CLASS_WEIGHTS[0]))\n",
    "print('Weight for class 1:   {:.2f}'.format(CLASS_WEIGHTS[1]))\n",
    "\n",
    "INITIAL_BIAS = np.log([pos/neg])[0]\n",
    "print('\\nInitial bias:         {:.2f}'.format(INITIAL_BIAS))"
   ]
  },
  {
   "cell_type": "code",
   "execution_count": null,
   "metadata": {},
   "outputs": [],
   "source": [
    "ds_train = generate_data(data_train, label=LABEL, batch_size=BATCH_SIZE, n_prefetch=1, class_weights=CLASS_WEIGHTS)"
   ]
  },
  {
   "attachments": {},
   "cell_type": "markdown",
   "metadata": {},
   "source": [
    "## Load validation data:"
   ]
  },
  {
   "cell_type": "code",
   "execution_count": null,
   "metadata": {},
   "outputs": [],
   "source": [
    "data_valid = pd.read_csv('data/text_val_set.csv', sep='\\t')\n",
    "data_valid.dropna(inplace=True)\n",
    "data_valid"
   ]
  },
  {
   "cell_type": "code",
   "execution_count": null,
   "metadata": {},
   "outputs": [],
   "source": [
    "ds_valid = generate_data(data_valid, label=LABEL, batch_size=BATCH_SIZE, n_prefetch=1)"
   ]
  },
  {
   "attachments": {},
   "cell_type": "markdown",
   "metadata": {},
   "source": [
    "# Create Model:"
   ]
  },
  {
   "cell_type": "code",
   "execution_count": null,
   "metadata": {},
   "outputs": [],
   "source": [
    "MODEL = SweDeClinBert(1, activation=tf.nn.sigmoid, rnn=RNN)"
   ]
  },
  {
   "attachments": {},
   "cell_type": "markdown",
   "metadata": {},
   "source": [
    "Compile Model:"
   ]
  },
  {
   "cell_type": "code",
   "execution_count": null,
   "metadata": {},
   "outputs": [],
   "source": [
    "MODEL.compile(\n",
    "    optimizer=tf.keras.optimizers.Adam(learning_rate=2e-5),\n",
    "    loss=tf.keras.losses.BinaryCrossentropy()\n",
    ")"
   ]
  },
  {
   "attachments": {},
   "cell_type": "markdown",
   "metadata": {},
   "source": [
    "# Train model:"
   ]
  },
  {
   "cell_type": "code",
   "execution_count": null,
   "metadata": {},
   "outputs": [],
   "source": [
    "history = MODEL.fit(ds_train,\n",
    "    validation_data=ds_valid,\n",
    "    epochs=NUM_EPOCHS,\n",
    "    callbacks=[\n",
    "        tf.keras.callbacks.LearningRateScheduler(\n",
    "            lambda epoch, lr: lr if epoch < 0.1 * NUM_EPOCHS else lr * 0.1\n",
    "        ),\n",
    "        tf.keras.callbacks.EarlyStopping(\n",
    "            restore_best_weights = True,\n",
    "            monitor='val_loss',\n",
    "            mode='min',\n",
    "            patience=2\n",
    "        ),\n",
    "        tf.keras.callbacks.ModelCheckpoint(\n",
    "            filepath=f'model/TensorFlow/checkpoint/SweDeClin-BERT-{RNN.__name__}',\n",
    "            save_weights_only=True,\n",
    "            save_best_only=True,\n",
    "            monitor='val_loss',\n",
    "            mode='min',\n",
    "            verbose=1\n",
    "        )\n",
    "    ]\n",
    ")"
   ]
  },
  {
   "attachments": {},
   "cell_type": "markdown",
   "metadata": {},
   "source": [
    "Save history:"
   ]
  },
  {
   "cell_type": "code",
   "execution_count": null,
   "metadata": {},
   "outputs": [],
   "source": [
    "# save history:\n",
    "with open(f'results/SweDeClin-BERT-{RNN.__name__}/train_history.pkl', 'wb') as f:\n",
    "    pkl.dump(history, f)\n",
    "\n",
    "# save model:\n",
    "MODEL.save_weights(f'model/TensorFlow/final/SweDeClin-BERT-{RNN.__name__}/weights')"
   ]
  },
  {
   "cell_type": "code",
   "execution_count": null,
   "metadata": {},
   "outputs": [],
   "source": [
    "MODEL.summary()"
   ]
  }
 ],
 "metadata": {
  "kernelspec": {
   "display_name": "Python 3 (ipykernel)",
   "language": "python",
   "name": "python3"
  },
  "language_info": {
   "codemirror_mode": {
    "name": "ipython",
    "version": 3
   },
   "file_extension": ".py",
   "mimetype": "text/x-python",
   "name": "python",
   "nbconvert_exporter": "python",
   "pygments_lexer": "ipython3",
   "version": "3.9.13"
  },
  "vscode": {
   "interpreter": {
    "hash": "09804e24ad6773f4299ff941abdb533da0618f58a933eb5ec00c0e9780539224"
   }
  }
 },
 "nbformat": 4,
 "nbformat_minor": 2
}
