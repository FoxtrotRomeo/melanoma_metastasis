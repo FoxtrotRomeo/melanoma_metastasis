{
 "cells": [
  {
   "cell_type": "code",
   "execution_count": 1,
   "metadata": {},
   "outputs": [],
   "source": [
    "import numpy as np\n",
    "import pickle as pkl\n",
    "from sklearn.metrics import f1_score, recall_score, precision_score"
   ]
  },
  {
   "cell_type": "code",
   "execution_count": 2,
   "metadata": {},
   "outputs": [],
   "source": [
    "LABEL      = 'metastasis'\n",
    "RNN_NAME   = 'LSTM'\n",
    "THRESHOLD  = .5"
   ]
  },
  {
   "cell_type": "code",
   "execution_count": 3,
   "metadata": {},
   "outputs": [
    {
     "data": {
      "text/plain": [
       "{'y_pred': array([0.9562682 , 0.9308502 , 0.9060468 , 0.58030957, 0.9680936 ,\n",
       "        0.78568166, 0.98105   , 0.2101418 , 0.9753624 , 0.9405303 ,\n",
       "        0.13953736, 0.93856263, 0.49206087, 0.9866982 , 0.9777575 ,\n",
       "        0.9780004 , 0.62460285, 0.9694324 , 0.17442155, 0.73143923,\n",
       "        0.9866552 , 0.5898097 , 0.9896124 , 0.13226712, 0.9469829 ,\n",
       "        0.10134215, 0.9840629 , 0.92829996, 0.05231259, 0.93065363,\n",
       "        0.89477783, 0.9922345 , 0.983175  , 0.98367673, 0.98008746,\n",
       "        0.99180806, 0.05535355, 0.18382229, 0.888042  , 0.34161487,\n",
       "        0.9778244 , 0.65154153, 0.98958725, 0.8846545 , 0.08672906,\n",
       "        0.10552248], dtype=float32),\n",
       " 'y_true': array([1., 1., 0., 0., 1., 1., 1., 0., 1., 1., 1., 1., 0., 1., 1., 1., 1.,\n",
       "        1., 1., 1., 1., 0., 1., 0., 1., 0., 1., 1., 0., 0., 1., 1., 1., 1.,\n",
       "        1., 1., 0., 1., 1., 1., 1., 1., 1., 1., 0., 0.], dtype=float32)}"
      ]
     },
     "execution_count": 3,
     "metadata": {},
     "output_type": "execute_result"
    }
   ],
   "source": [
    "with open(f'results/SweDeClin-BERT-{RNN_NAME}/predictions.pkl', 'rb') as f:\n",
    "    predictions = pkl.load(f)\n",
    "\n",
    "predictions['y_pred'] = predictions['y_pred'].flatten()\n",
    "predictions['y_true'] = predictions['y_true'].astype(np.float32)\n",
    "predictions"
   ]
  },
  {
   "cell_type": "code",
   "execution_count": 4,
   "metadata": {},
   "outputs": [
    {
     "data": {
      "text/plain": [
       "4"
      ]
     },
     "execution_count": 4,
     "metadata": {},
     "output_type": "execute_result"
    }
   ],
   "source": [
    "np.abs(predictions['y_pred']-predictions['y_true']>.5).sum()"
   ]
  },
  {
   "cell_type": "code",
   "execution_count": 5,
   "metadata": {},
   "outputs": [
    {
     "data": {
      "text/plain": [
       "0.8823529411764706"
      ]
     },
     "execution_count": 5,
     "metadata": {},
     "output_type": "execute_result"
    }
   ],
   "source": [
    "f1_score(predictions['y_true'] > THRESHOLD, predictions['y_pred'] > 0.5)"
   ]
  },
  {
   "cell_type": "code",
   "execution_count": 6,
   "metadata": {},
   "outputs": [
    {
     "data": {
      "text/plain": [
       "0.8823529411764706"
      ]
     },
     "execution_count": 6,
     "metadata": {},
     "output_type": "execute_result"
    }
   ],
   "source": [
    "recall_score(predictions['y_true'] > THRESHOLD, predictions['y_pred'] > 0.5)"
   ]
  },
  {
   "cell_type": "code",
   "execution_count": 7,
   "metadata": {},
   "outputs": [
    {
     "data": {
      "text/plain": [
       "0.8823529411764706"
      ]
     },
     "execution_count": 7,
     "metadata": {},
     "output_type": "execute_result"
    }
   ],
   "source": [
    "precision_score(predictions['y_true'] > THRESHOLD, predictions['y_pred'] > 0.5)"
   ]
  }
 ],
 "metadata": {
  "kernelspec": {
   "display_name": "Python 3",
   "language": "python",
   "name": "python3"
  },
  "language_info": {
   "codemirror_mode": {
    "name": "ipython",
    "version": 3
   },
   "file_extension": ".py",
   "mimetype": "text/x-python",
   "name": "python",
   "nbconvert_exporter": "python",
   "pygments_lexer": "ipython3",
   "version": "3.9.13"
  },
  "orig_nbformat": 4
 },
 "nbformat": 4,
 "nbformat_minor": 2
}
